{
 "cells": [
  {
   "cell_type": "code",
   "execution_count": 1,
   "metadata": {},
   "outputs": [
    {
     "name": "stdout",
     "output_type": "stream",
     "text": [
      "1\n"
     ]
    }
   ],
   "source": [
    "def min_4(a, b, c ,d):\n",
    "    return min(a,min(b,min(c,d)))\n",
    "a,b,c,d = list(map(int, input().split()))\n",
    "print(min_4(a,b,c,d))"
   ]
  },
  {
   "cell_type": "code",
   "execution_count": 15,
   "metadata": {},
   "outputs": [
    {
     "name": "stdout",
     "output_type": "stream",
     "text": [
      "5.76\n"
     ]
    }
   ],
   "source": [
    "def pow(x, p):\n",
    "    answ = 1\n",
    "    for i in range(int(p)):\n",
    "        answ*=x\n",
    "    return answ\n",
    "x, p = map(float,input().split())    \n",
    "print(pow(x,p))"
   ]
  },
  {
   "cell_type": "code",
   "execution_count": 27,
   "metadata": {},
   "outputs": [
    {
     "name": "stdout",
     "output_type": "stream",
     "text": [
      "1\n"
     ]
    }
   ],
   "source": [
    "def xor(a,b):\n",
    "    if a == b:\n",
    "        return 0\n",
    "    else:\n",
    "        return 1\n",
    "a,b = list(map(int,input().split()))\n",
    "print(xor(a,b))"
   ]
  },
  {
   "cell_type": "code",
   "execution_count": 5,
   "metadata": {},
   "outputs": [
    {
     "name": "stdout",
     "output_type": "stream",
     "text": [
      "True\n",
      "True\n",
      "False\n",
      "False\n",
      "True\n",
      "False\n"
     ]
    }
   ],
   "source": [
    "def deviders(dev1, dev2, number):\n",
    "    if number==0:\n",
    "        return True\n",
    "    try:\n",
    "        if number%dev1==0 and number%dev2==0:\n",
    "            return True\n",
    "        else:\n",
    "            return False\n",
    "    except:\n",
    "        return False\n",
    "        \n",
    "if __name__ == \"__main__\":\n",
    "    print(deviders(2,5,10))\n",
    "    print(deviders(1,77,77))\n",
    "    print(deviders(10,2,5))\n",
    "    print(deviders(0,1,6))\n",
    "    print(deviders(1,1,1))\n",
    "    print(deviders(3,7,25))"
   ]
  },
  {
   "cell_type": "code",
   "execution_count": 2,
   "metadata": {},
   "outputs": [
    {
     "name": "stdout",
     "output_type": "stream",
     "text": [
      "0.3968985399301442 0.6795704571147613\n"
     ]
    }
   ],
   "source": [
    "import math\n",
    "\n",
    "x = 1#float(input())\n",
    "y = 2#float(input())\n",
    "z = 1#float(input())\n",
    "\n",
    "a = (x**2+(y**2)*math.sin(x))/(2+(x**3+(x**2)*y**3))\n",
    "\n",
    "b = math.exp(abs(x-y))/(x+y+z)\n",
    "print(a,b)"
   ]
  }
 ],
 "metadata": {
  "kernelspec": {
   "display_name": "Python 3",
   "language": "python",
   "name": "python3"
  },
  "language_info": {
   "codemirror_mode": {
    "name": "ipython",
    "version": 3
   },
   "file_extension": ".py",
   "mimetype": "text/x-python",
   "name": "python",
   "nbconvert_exporter": "python",
   "pygments_lexer": "ipython3",
   "version": "3.9.13"
  },
  "orig_nbformat": 4,
  "vscode": {
   "interpreter": {
    "hash": "c7746a95b53a0b6af2012be32900d4a0901a705fd9727d16823a07b2b977aa1d"
   }
  }
 },
 "nbformat": 4,
 "nbformat_minor": 2
}
